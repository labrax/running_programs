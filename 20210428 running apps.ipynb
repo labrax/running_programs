{
 "cells": [
  {
   "cell_type": "markdown",
   "id": "willing-catering",
   "metadata": {},
   "source": [
    "# Do no use this file, use the app_logger.py file"
   ]
  },
  {
   "cell_type": "code",
   "execution_count": null,
   "id": "declared-arabic",
   "metadata": {},
   "outputs": [],
   "source": []
  },
  {
   "cell_type": "code",
   "execution_count": null,
   "id": "loaded-massachusetts",
   "metadata": {},
   "outputs": [],
   "source": []
  },
  {
   "cell_type": "code",
   "execution_count": null,
   "id": "powered-lucas",
   "metadata": {},
   "outputs": [],
   "source": []
  },
  {
   "cell_type": "code",
   "execution_count": null,
   "id": "indonesian-ambassador",
   "metadata": {},
   "outputs": [],
   "source": []
  },
  {
   "cell_type": "code",
   "execution_count": null,
   "id": "personal-address",
   "metadata": {},
   "outputs": [],
   "source": [
    "# python -m pip install psutil pywin32 infi.systray"
   ]
  },
  {
   "cell_type": "code",
   "execution_count": 1,
   "id": "enormous-coverage",
   "metadata": {},
   "outputs": [],
   "source": [
    "import sys\n",
    "import psutil\n",
    "import time\n",
    "from infi.systray import SysTrayIcon"
   ]
  },
  {
   "cell_type": "code",
   "execution_count": null,
   "id": "chemical-litigation",
   "metadata": {},
   "outputs": [],
   "source": [
    "BASE_PATH = 'C:\\\\Users\\\\vroth\\\\Google Drive\\\\Projetos\\\\running_programs\\\\'"
   ]
  },
  {
   "cell_type": "code",
   "execution_count": 2,
   "id": "conditional-soldier",
   "metadata": {},
   "outputs": [],
   "source": [
    "def get_active_window():\n",
    "    \"\"\"\n",
    "    Get the currently active window.\n",
    "\n",
    "    Returns\n",
    "    -------\n",
    "    string :\n",
    "        Name of the currently active window.\n",
    "    \"\"\"\n",
    "    import sys\n",
    "    active_window_name = None\n",
    "    tid, pid = None, None\n",
    "    path = None\n",
    "    if sys.platform in ['linux', 'linux2']:\n",
    "        # Alternatives: http://unix.stackexchange.com/q/38867/4784\n",
    "        try:\n",
    "            import wnck\n",
    "        except ImportError:\n",
    "            logging.info(\"wnck not installed\")\n",
    "            wnck = None\n",
    "        if wnck is not None:\n",
    "            screen = wnck.screen_get_default()\n",
    "            screen.force_update()\n",
    "            window = screen.get_active_window()\n",
    "            if window is not None:\n",
    "                pid = window.get_pid()\n",
    "                with open(\"/proc/{pid}/cmdline\".format(pid=pid)) as f:\n",
    "                    active_window_name = f.read()\n",
    "        else:\n",
    "            try:\n",
    "                from gi.repository import Gtk, Wnck\n",
    "                gi = \"Installed\"\n",
    "            except ImportError:\n",
    "                logging.info(\"gi.repository not installed\")\n",
    "                gi = None\n",
    "            if gi is not None:\n",
    "                Gtk.init([])  # necessary if not using a Gtk.main() loop\n",
    "                screen = Wnck.Screen.get_default()\n",
    "                screen.force_update()  # recommended per Wnck documentation\n",
    "                active_window = screen.get_active_window()\n",
    "                pid = active_window.get_pid()\n",
    "                with open(\"/proc/{pid}/cmdline\".format(pid=pid)) as f:\n",
    "                    active_window_name = f.read()\n",
    "    elif sys.platform in ['Windows', 'win32', 'cygwin']:\n",
    "        # http://stackoverflow.com/a/608814/562769\n",
    "        import win32gui\n",
    "        import win32process\n",
    "        window = win32gui.GetForegroundWindow()\n",
    "        tid, pid = win32process.GetWindowThreadProcessId(window)\n",
    "        try:\n",
    "            path = psutil.Process(pid).exe()\n",
    "        except:\n",
    "            pass\n",
    "        active_window_name = win32gui.GetWindowText(window)\n",
    "    elif sys.platform in ['Mac', 'darwin', 'os2', 'os2emx']:\n",
    "        # http://stackoverflow.com/a/373310/562769\n",
    "        from AppKit import NSWorkspace\n",
    "        active_window_name = (NSWorkspace.sharedWorkspace()\n",
    "                              .activeApplication()['NSApplicationName'])\n",
    "    else:\n",
    "        print(\"sys.platform={platform} is unknown. Please report.\"\n",
    "              .format(platform=sys.platform))\n",
    "        print(sys.version)\n",
    "    return {'pid': pid, 'name': active_window_name, 'path': path, 'time': time.time()}"
   ]
  },
  {
   "cell_type": "code",
   "execution_count": 3,
   "id": "treated-standard",
   "metadata": {},
   "outputs": [],
   "source": [
    "ENABLED = True\n",
    "counted = 0"
   ]
  },
  {
   "cell_type": "code",
   "execution_count": 10,
   "id": "effective-optimization",
   "metadata": {},
   "outputs": [
    {
     "name": "stdout",
     "output_type": "stream",
     "text": [
      "Disabled\n",
      "Enabled\n"
     ]
    }
   ],
   "source": [
    "def enable_disable(systray):\n",
    "    global ENABLED\n",
    "    ENABLED = not ENABLED\n",
    "    if(ENABLED):\n",
    "        print('Enabled')\n",
    "        systray.update(icon='on.ico')\n",
    "    #    systray.update(menu_options=menu_options_enabled)\n",
    "    else:\n",
    "        print('Disabled')\n",
    "        systray.update(icon='off.ico')\n",
    "    #    systray.update(menu_options=menu_options_disabled)\n",
    "    \n",
    "menu_options_enabled = ((\"Enable/Disable\", None, enable_disable),)\n",
    "#menu_options_disabled = ((\"Enable\", None, enable_disable),)\n",
    "\n",
    "#icon by: https://www.flaticon.com/free-icon/growth_3094918?term=stats&page=1&position=9&page=1&position=9&related_id=3094918&origin=search\n",
    "systray = SysTrayIcon(\"on.ico\", \"System logger\", menu_options_enabled)\n",
    "systray.start()"
   ]
  },
  {
   "cell_type": "code",
   "execution_count": 5,
   "id": "modified-mention",
   "metadata": {},
   "outputs": [],
   "source": [
    "def get_new_file_name():\n",
    "    f = BASE_PATH + time.strftime(\"%Y%m%d\") + '_app_use.csv'\n",
    "    print('File: ', f)\n",
    "    return f"
   ]
  },
  {
   "cell_type": "code",
   "execution_count": 6,
   "id": "measured-davis",
   "metadata": {},
   "outputs": [],
   "source": [
    "def logging_function(date, time, pid, name, path, duration):\n",
    "    global counted\n",
    "    counted += 1\n",
    "    out = ';'.join([str(i) for i in [date, \n",
    "                               time,\n",
    "                               pid,\n",
    "                               name.replace('\\\\', '\\\\\\\\').replace('\"\"', '\\\\\"') if name else '',\n",
    "                               path.replace('\\\\', '\\\\\\\\').replace('\"\"', '\\\\\"') if path else '', \n",
    "                               duration]])\n",
    "    print(counted, out, end='\\r')\n",
    "    return(out)"
   ]
  },
  {
   "cell_type": "code",
   "execution_count": 7,
   "id": "human-arrangement",
   "metadata": {},
   "outputs": [
    {
     "name": "stdout",
     "output_type": "stream",
     "text": [
      "File:  20210428_app_use.csv\n"
     ]
    },
    {
     "ename": "UnboundLocalError",
     "evalue": "local variable 'counted' referenced before assignment",
     "output_type": "error",
     "traceback": [
      "\u001b[1;31m---------------------------------------------------------------------------\u001b[0m",
      "\u001b[1;31mUnboundLocalError\u001b[0m                         Traceback (most recent call last)",
      "\u001b[1;32m<ipython-input-7-671f1f631b9f>\u001b[0m in \u001b[0;36m<module>\u001b[1;34m\u001b[0m\n\u001b[0;32m     11\u001b[0m             \u001b[1;32mif\u001b[0m \u001b[1;33m(\u001b[0m\u001b[0mactive\u001b[0m\u001b[1;33m[\u001b[0m\u001b[1;34m'name'\u001b[0m\u001b[1;33m]\u001b[0m \u001b[1;33m==\u001b[0m \u001b[0mlast\u001b[0m\u001b[1;33m[\u001b[0m\u001b[1;34m'name'\u001b[0m\u001b[1;33m]\u001b[0m\u001b[1;33m)\u001b[0m \u001b[1;32mand\u001b[0m \u001b[1;33m(\u001b[0m\u001b[0mlast\u001b[0m\u001b[1;33m[\u001b[0m\u001b[1;34m'pid'\u001b[0m\u001b[1;33m]\u001b[0m \u001b[1;33m==\u001b[0m \u001b[0mactive\u001b[0m\u001b[1;33m[\u001b[0m\u001b[1;34m'pid'\u001b[0m\u001b[1;33m]\u001b[0m\u001b[1;33m)\u001b[0m\u001b[1;33m:\u001b[0m\u001b[1;33m\u001b[0m\u001b[1;33m\u001b[0m\u001b[0m\n\u001b[0;32m     12\u001b[0m                 \u001b[1;32mcontinue\u001b[0m\u001b[1;33m\u001b[0m\u001b[1;33m\u001b[0m\u001b[0m\n\u001b[1;32m---> 13\u001b[1;33m             f.write(logging_function(date = time.strftime(\"%Y-%m-%d\"),\n\u001b[0m\u001b[0;32m     14\u001b[0m                                      \u001b[0mtime\u001b[0m \u001b[1;33m=\u001b[0m \u001b[0mtime\u001b[0m\u001b[1;33m.\u001b[0m\u001b[0mstrftime\u001b[0m\u001b[1;33m(\u001b[0m\u001b[1;34m\"%H:%M:%S\"\u001b[0m\u001b[1;33m)\u001b[0m\u001b[1;33m,\u001b[0m\u001b[1;33m\u001b[0m\u001b[1;33m\u001b[0m\u001b[0m\n\u001b[0;32m     15\u001b[0m                                      \u001b[0mpid\u001b[0m \u001b[1;33m=\u001b[0m \u001b[0mlast\u001b[0m\u001b[1;33m[\u001b[0m\u001b[1;34m'pid'\u001b[0m\u001b[1;33m]\u001b[0m\u001b[1;33m,\u001b[0m\u001b[1;33m\u001b[0m\u001b[1;33m\u001b[0m\u001b[0m\n",
      "\u001b[1;32m<ipython-input-6-dfaa26c1cce9>\u001b[0m in \u001b[0;36mlogging_function\u001b[1;34m(date, time, pid, name, path, duration)\u001b[0m\n\u001b[0;32m      6\u001b[0m                                \u001b[0mpath\u001b[0m\u001b[1;33m.\u001b[0m\u001b[0mreplace\u001b[0m\u001b[1;33m(\u001b[0m\u001b[1;34m'\\\\'\u001b[0m\u001b[1;33m,\u001b[0m \u001b[1;34m'\\\\\\\\'\u001b[0m\u001b[1;33m)\u001b[0m\u001b[1;33m.\u001b[0m\u001b[0mreplace\u001b[0m\u001b[1;33m(\u001b[0m\u001b[1;34m'\"\"'\u001b[0m\u001b[1;33m,\u001b[0m \u001b[1;34m'\\\\\"'\u001b[0m\u001b[1;33m)\u001b[0m \u001b[1;32mif\u001b[0m \u001b[0mpath\u001b[0m \u001b[1;32melse\u001b[0m \u001b[1;34m''\u001b[0m\u001b[1;33m,\u001b[0m\u001b[1;33m\u001b[0m\u001b[1;33m\u001b[0m\u001b[0m\n\u001b[0;32m      7\u001b[0m                                duration]])\n\u001b[1;32m----> 8\u001b[1;33m     \u001b[0mcounted\u001b[0m \u001b[1;33m+=\u001b[0m \u001b[1;36m1\u001b[0m\u001b[1;33m\u001b[0m\u001b[1;33m\u001b[0m\u001b[0m\n\u001b[0m\u001b[0;32m      9\u001b[0m     \u001b[1;32mreturn\u001b[0m\u001b[1;33m(\u001b[0m\u001b[0mout\u001b[0m\u001b[1;33m)\u001b[0m\u001b[1;33m\u001b[0m\u001b[1;33m\u001b[0m\u001b[0m\n",
      "\u001b[1;31mUnboundLocalError\u001b[0m: local variable 'counted' referenced before assignment"
     ]
    }
   ],
   "source": [
    "last = {'pid': None,\n",
    "        'name': None,\n",
    "        'path': None,\n",
    "        'time': time.time()}\n",
    "\n",
    "with open(get_new_file_name(), 'a+') as f:\n",
    "    while True:\n",
    "        time.sleep(0.1)\n",
    "        if(ENABLED):\n",
    "            active = get_active_window()\n",
    "            if (active['name'] == last['name']) and (last['pid'] == active['pid']):\n",
    "                continue\n",
    "            f.write(logging_function(date = time.strftime(\"%Y-%m-%d\"),\n",
    "                                     time = time.strftime(\"%H:%M:%S\"),\n",
    "                                     pid = last['pid'],\n",
    "                                     name = last['name'],\n",
    "                                     path = last['path'],\n",
    "                                     duration = active['time'] - last['time']) + '\\n')\n",
    "            last = active\n",
    "        else:\n",
    "            last = {'pid': None,\n",
    "                    'name': None,\n",
    "                    'path': None,\n",
    "                    'time': time.time()}"
   ]
  },
  {
   "cell_type": "code",
   "execution_count": null,
   "id": "challenging-tampa",
   "metadata": {},
   "outputs": [],
   "source": []
  }
 ],
 "metadata": {
  "kernelspec": {
   "display_name": "Python 3",
   "language": "python",
   "name": "python3"
  },
  "language_info": {
   "codemirror_mode": {
    "name": "ipython",
    "version": 3
   },
   "file_extension": ".py",
   "mimetype": "text/x-python",
   "name": "python",
   "nbconvert_exporter": "python",
   "pygments_lexer": "ipython3",
   "version": "3.8.8"
  }
 },
 "nbformat": 4,
 "nbformat_minor": 5
}
