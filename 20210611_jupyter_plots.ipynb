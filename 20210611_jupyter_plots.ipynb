{
 "cells": [
  {
   "cell_type": "code",
   "execution_count": null,
   "id": "appointed-commodity",
   "metadata": {},
   "outputs": [],
   "source": [
    "from plots import *"
   ]
  },
  {
   "cell_type": "code",
   "execution_count": null,
   "id": "behind-harvey",
   "metadata": {},
   "outputs": [],
   "source": [
    "plot_for_period(prepare_df_barplot(LIST_OF_FILES[-1]), \n",
    "                period_name='Current day')"
   ]
  },
  {
   "cell_type": "code",
   "execution_count": null,
   "id": "conscious-bahamas",
   "metadata": {},
   "outputs": [],
   "source": [
    "plot_for_period(prepare_df_barplot(LIST_OF_FILES[-7:], \n",
    "                                   top=10), \n",
    "                period_name='Last 7 days')"
   ]
  },
  {
   "cell_type": "code",
   "execution_count": null,
   "id": "silent-stranger",
   "metadata": {},
   "outputs": [],
   "source": [
    "plot_for_period(prepare_df_barplot(LIST_OF_FILES, \n",
    "                                   top=10), \n",
    "                period_name='All history')"
   ]
  },
  {
   "cell_type": "code",
   "execution_count": null,
   "id": "severe-aviation",
   "metadata": {},
   "outputs": [],
   "source": [
    "plot_for_program(prepare_df_for_name_search(LIST_OF_FILES, \n",
    "                                            'Jupyter Notebook'), \n",
    "                 'Jupyter Notebook')"
   ]
  },
  {
   "cell_type": "code",
   "execution_count": null,
   "id": "focal-blues",
   "metadata": {},
   "outputs": [],
   "source": [
    "plot_for_program(prepare_df_for_name_search(LIST_OF_FILES, \n",
    "                                            ['Jupyter Notebook', 'RStudio', 'Google Chrome', 'SevTech Ages', 'YouTube', 'Remote Desktop']))"
   ]
  },
  {
   "cell_type": "code",
   "execution_count": null,
   "id": "viral-cinema",
   "metadata": {},
   "outputs": [],
   "source": [
    "plot_jitter_day(prepare_df(LIST_OF_FILES[-1],\n",
    "                           required_columns=['name', 'datetime'], \n",
    "                           change_names=False, \n",
    "                           remove_nan_names=False), \n",
    "                period_name='Last day')"
   ]
  },
  {
   "cell_type": "code",
   "execution_count": null,
   "id": "suitable-drawing",
   "metadata": {},
   "outputs": [],
   "source": [
    "plot_jitter_multiple_day(prepare_df(LIST_OF_FILES[-7:],\n",
    "                                    required_columns=['name', 'datetime'], \n",
    "                                    change_names=False, \n",
    "                                    remove_nan_names=False),\n",
    "                         period_name='Last 7 days')"
   ]
  },
  {
   "cell_type": "code",
   "execution_count": null,
   "id": "regulated-extension",
   "metadata": {},
   "outputs": [],
   "source": [
    "plot_jitter_multiple_day(prepare_df(LIST_OF_FILES,\n",
    "                                    required_columns=['name', 'datetime'], \n",
    "                                    change_names=False, \n",
    "                                    remove_nan_names=False),\n",
    "                         period_name='All days',\n",
    "                         xticksrotation=True)"
   ]
  },
  {
   "cell_type": "code",
   "execution_count": null,
   "id": "crude-tomorrow",
   "metadata": {},
   "outputs": [],
   "source": [
    "plot_uptime(prepare_df(LIST_OF_FILES,\n",
    "                       required_columns=['name', 'datetime', 'duration'], \n",
    "                       change_names=False, \n",
    "                       remove_nan_names=False),\n",
    "            period_name='All days (not locked)',\n",
    "            xticksrotation=True,\n",
    "            ignore_lockscreen=True)"
   ]
  }
 ],
 "metadata": {
  "kernelspec": {
   "display_name": "Python 3",
   "language": "python",
   "name": "python3"
  },
  "language_info": {
   "codemirror_mode": {
    "name": "ipython",
    "version": 3
   },
   "file_extension": ".py",
   "mimetype": "text/x-python",
   "name": "python",
   "nbconvert_exporter": "python",
   "pygments_lexer": "ipython3",
   "version": "3.8.8"
  }
 },
 "nbformat": 4,
 "nbformat_minor": 5
}
